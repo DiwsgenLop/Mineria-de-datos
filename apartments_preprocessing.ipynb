{
  "cells": [
    {
      "cell_type": "markdown",
      "metadata": {
        "id": "SX9THirtYck-"
      },
      "source": [
        "# **Código de ejemplo para aplicar preprocesamiento al dataset \"apartments\"**"
      ]
    },
    {
      "cell_type": "code",
      "execution_count": 29,
      "metadata": {},
      "outputs": [],
      "source": [
        "import pandas as pd"
      ]
    },
    {
      "cell_type": "markdown",
      "metadata": {},
      "source": [
        "Cargar el contenido de apartments a df"
      ]
    },
    {
      "cell_type": "code",
      "execution_count": 51,
      "metadata": {},
      "outputs": [
        {
          "name": "stderr",
          "output_type": "stream",
          "text": [
            "C:\\Users\\Diws\\AppData\\Local\\Temp\\ipykernel_1164\\103332028.py:1: DtypeWarning: Columns (12,15) have mixed types. Specify dtype option on import or set low_memory=False.\n",
            "  df = pd.read_csv('apartments.csv', encoding='cp1252')\n"
          ]
        }
      ],
      "source": [
        "df = pd.read_csv('apartments.csv', encoding='cp1252')"
      ]
    },
    {
      "cell_type": "markdown",
      "metadata": {
        "id": "Akjvy822XOK0"
      },
      "source": [
        "1. Inspeccionar el dataset\n",
        "Lo primero es revisar la estructura de los datos, los nombres de las columnas, y los tipos de datos, además de buscar valores faltantes."
      ]
    },
    {
      "cell_type": "code",
      "execution_count": 52,
      "metadata": {
        "id": "jfomDriJW_3J"
      },
      "outputs": [
        {
          "name": "stdout",
          "output_type": "stream",
          "text": [
            "Primeras filas del dataset:\n",
            "           id                category                            title  \\\n",
            "0  5668640009  housing/rent/apartment       One BR 507 & 509 Esplanade   \n",
            "1  5668639818  housing/rent/apartment      Three BR 146 Lochview Drive   \n",
            "2  5668639686  housing/rent/apartment  Three BR 3101 Morningside Drive   \n",
            "3  5668639659  housing/rent/apartment            Two BR 209 Aegean Way   \n",
            "4  5668639374  housing/rent/apartment         One BR 4805 Marquette NE   \n",
            "\n",
            "                                                body amenities  bathrooms  \\\n",
            "0  This unit is located at 507 & 509 Esplanade, R...       NaN        1.0   \n",
            "1  This unit is located at 146 Lochview Drive, Ne...       NaN        1.5   \n",
            "2  This unit is located at 3101 Morningside Drive...       NaN        2.0   \n",
            "3  This unit is located at 209 Aegean Way, Vacavi...       NaN        1.0   \n",
            "4  This unit is located at 4805 Marquette NE, Alb...       NaN        1.0   \n",
            "\n",
            "   bedrooms currency fee  has_photo  ... price_display  price_type  \\\n",
            "0       1.0      USD  No  Thumbnail  ...          2195     Monthly   \n",
            "1       3.0      USD  No  Thumbnail  ...          1250     Monthly   \n",
            "2       3.0      USD  No  Thumbnail  ...          1395     Monthly   \n",
            "3       2.0      USD  No  Thumbnail  ...          1600     Monthly   \n",
            "4       1.0      USD  No  Thumbnail  ...           975     Monthly   \n",
            "\n",
            "  square_feet              address       cityname state latitude longitude  \\\n",
            "0       542.0   507  509 Esplanade  Redondo Beach    CA  33.8520 -118.3759   \n",
            "1      1500.0      146 Lochview Dr   Newport News    VA  37.0867  -76.4941   \n",
            "2      1650.0  3101 Morningside Dr        Raleigh    NC  35.8230  -78.6438   \n",
            "3       820.0       209 Aegean Way      Vacaville    CA  38.3622 -121.9712   \n",
            "4       624.0    4805 Marquette NE    Albuquerque    NM  35.1038 -106.6110   \n",
            "\n",
            "      source          time  \n",
            "0  RentLingo  1.577360e+09  \n",
            "1  RentLingo  1.577360e+09  \n",
            "2  RentLingo  1.577360e+09  \n",
            "3  RentLingo  1.577360e+09  \n",
            "4  RentLingo  1.577360e+09  \n",
            "\n",
            "[5 rows x 22 columns]\n",
            "Información general del dataset:\n",
            "<class 'pandas.core.frame.DataFrame'>\n",
            "RangeIndex: 100000 entries, 0 to 99999\n",
            "Data columns (total 22 columns):\n",
            " #   Column         Non-Null Count   Dtype  \n",
            "---  ------         --------------   -----  \n",
            " 0   id             100000 non-null  int64  \n",
            " 1   category       100000 non-null  object \n",
            " 2   title          100000 non-null  object \n",
            " 3   body           100000 non-null  object \n",
            " 4   amenities      83903 non-null   object \n",
            " 5   bathrooms      99930 non-null   float64\n",
            " 6   bedrooms       99869 non-null   float64\n",
            " 7   currency       99993 non-null   object \n",
            " 8   fee            99993 non-null   object \n",
            " 9   has_photo      99993 non-null   object \n",
            " 10  pets_allowed   39255 non-null   object \n",
            " 11  price          99992 non-null   float64\n",
            " 12  price_display  99992 non-null   object \n",
            " 13  price_type     99993 non-null   object \n",
            " 14  square_feet    99993 non-null   float64\n",
            " 15  address        7943 non-null    object \n",
            " 16  cityname       99691 non-null   object \n",
            " 17  state          99691 non-null   object \n",
            " 18  latitude       99968 non-null   float64\n",
            " 19  longitude      99968 non-null   float64\n",
            " 20  source         99993 non-null   object \n",
            " 21  time           99993 non-null   float64\n",
            "dtypes: float64(7), int64(1), object(14)\n",
            "memory usage: 16.8+ MB\n",
            "None\n",
            "Estadísticas generales del dataset:\n",
            "                 id     bathrooms      bedrooms         price   square_feet  \\\n",
            "count  1.000000e+05  99930.000000  99869.000000  99992.000000  99993.000000   \n",
            "mean   5.358815e+09      1.445372      1.727934   1527.183765    956.423830   \n",
            "std    1.846077e+08      0.546878      0.748924    903.252861    417.098512   \n",
            "min    5.121046e+09      1.000000      0.000000    100.000000    101.000000   \n",
            "25%    5.197954e+09      1.000000      1.000000   1014.000000    729.000000   \n",
            "50%    5.508674e+09      1.000000      2.000000   1350.000000    900.000000   \n",
            "75%    5.509009e+09      2.000000      2.000000   1795.000000   1115.000000   \n",
            "max    5.669439e+09      9.000000      9.000000  52500.000000  50000.000000   \n",
            "\n",
            "           latitude     longitude          time  \n",
            "count  99968.000000  99968.000000  9.999300e+04  \n",
            "mean      36.950051    -91.554563  1.559695e+09  \n",
            "std        4.599818     15.819821  1.104320e+07  \n",
            "min       19.573800   -159.369800  1.544174e+09  \n",
            "25%       33.749600   -104.791900  1.550832e+09  \n",
            "50%       37.231000    -84.551900  1.568745e+09  \n",
            "75%       39.954200    -77.576700  1.568767e+09  \n",
            "max       64.833200    -68.778800  1.577391e+09  \n",
            "Valores faltantes por columna:\n",
            "id                   0\n",
            "category             0\n",
            "title                0\n",
            "body                 0\n",
            "amenities        16097\n",
            "bathrooms           70\n",
            "bedrooms           131\n",
            "currency             7\n",
            "fee                  7\n",
            "has_photo            7\n",
            "pets_allowed     60745\n",
            "price                8\n",
            "price_display        8\n",
            "price_type           7\n",
            "square_feet          7\n",
            "address          92057\n",
            "cityname           309\n",
            "state              309\n",
            "latitude            32\n",
            "longitude           32\n",
            "source               7\n",
            "time                 7\n",
            "dtype: int64\n"
          ]
        }
      ],
      "source": [
        "# Mostrar las primeras filas del dataset para ver la estructura\n",
        "print(\"Primeras filas del dataset:\")\n",
        "print(df.head())\n",
        "\n",
        "# Verificar los tipos de datos y la cantidad de valores faltantes\n",
        "print(\"Información general del dataset:\")\n",
        "print(df.info())\n",
        "\n",
        "# Revisar las estadísticas generales del dataset\n",
        "print(\"Estadísticas generales del dataset:\")\n",
        "print(df.describe())\n",
        "\n",
        "# Verificar valores faltantes en cada columna\n",
        "print(\"Valores faltantes por columna:\")\n",
        "print(df.isnull().sum())"
      ]
    },
    {
      "cell_type": "markdown",
      "metadata": {
        "id": "7WbNX3uTXW2v"
      },
      "source": [
        "2. Manejo de valores faltantes\n",
        "En este paso, buscamos las columnas que contienen valores NaN y decidimos cómo manejarlos. Puedes elegir entre eliminar las filas o columnas que contienen demasiados valores faltantes, o rellenar estos valores con un valor apropiado (como la media o una categoría por defecto)."
      ]
    },
    {
      "cell_type": "code",
      "execution_count": 53,
      "metadata": {
        "id": "6Ca9Q7HsXa3M"
      },
      "outputs": [
        {
          "name": "stdout",
          "output_type": "stream",
          "text": [
            "Valores faltantes por columna:\n",
            "id                   0\n",
            "category             0\n",
            "title                0\n",
            "body                 0\n",
            "amenities            0\n",
            "bathrooms           63\n",
            "bedrooms           124\n",
            "currency             0\n",
            "fee                  0\n",
            "has_photo            0\n",
            "pets_allowed     60738\n",
            "price                0\n",
            "price_display        0\n",
            "price_type           0\n",
            "square_feet          0\n",
            "address          92050\n",
            "cityname           302\n",
            "state              302\n",
            "latitude            25\n",
            "longitude           25\n",
            "source               0\n",
            "time                 0\n",
            "dtype: int64\n"
          ]
        }
      ],
      "source": [
        "# Verificar cuántos valores faltantes hay por columna\n",
        "#print(df.isnull().sum())\n",
        "\n",
        "# Ejemplo: Rellenar valores faltantes en la columna \"amenities\" con \"No disponible\"\n",
        "#df['amenities'].fillna('No disponible', inplace=True)\n",
        "df['amenities'] = df['amenities'].fillna('No disponible')\n",
        "# Eliminar filas con valores faltantes en columnas críticas como \"price_display\"\n",
        "df.dropna(subset=['price_display'], inplace=True)\n",
        "\n",
        "#Verificamos otra vez los valores faltantes para ambas columnas\n",
        "print(\"Valores faltantes por columna:\")\n",
        "print(df.isnull().sum())\n",
        "\n"
      ]
    },
    {
      "cell_type": "markdown",
      "metadata": {
        "id": "PxxiDgTXXl1E"
      },
      "source": [
        "3. Conversión de tipos de datos\n",
        "Asegúrate de que las columnas numéricas, como bathrooms, bedrooms, y price_display, estén en el formato correcto (por ejemplo, float o int). Algunas columnas pueden tener mezclas de tipos de datos que debes corregir.\n"
      ]
    },
    {
      "cell_type": "code",
      "execution_count": 54,
      "metadata": {
        "id": "FoFPD72tXmsi"
      },
      "outputs": [
        {
          "name": "stdout",
          "output_type": "stream",
          "text": [
            "Tipos de datos de las columnas:\n",
            "id                 int64\n",
            "category          object\n",
            "title             object\n",
            "body              object\n",
            "amenities         object\n",
            "bathrooms        float64\n",
            "bedrooms         float64\n",
            "currency          object\n",
            "fee               object\n",
            "has_photo         object\n",
            "pets_allowed      object\n",
            "price            float64\n",
            "price_display    float64\n",
            "price_type        object\n",
            "square_feet      float64\n",
            "address           object\n",
            "cityname          object\n",
            "state             object\n",
            "latitude         float64\n",
            "longitude        float64\n",
            "source            object\n",
            "time             float64\n",
            "dtype: object\n"
          ]
        }
      ],
      "source": [
        "# Convertir la columna 'price_display' y 'square_feet' a numérico, manejando errores\n",
        "df['price_display'] = pd.to_numeric(df['price_display'], errors='coerce')\n",
        "df['square_feet'] = pd.to_numeric(df['square_feet'], errors='coerce')\n",
        "\n",
        "#Imprimimos los tipos de datos de las columnas\n",
        "print(\"Tipos de datos de las columnas:\")\n",
        "print(df.dtypes)"
      ]
    },
    {
      "cell_type": "markdown",
      "metadata": {
        "id": "AzsDGNJ6XqCD"
      },
      "source": [
        "4. Codificación de variables categóricas\n",
        "Las columnas categóricas, como cityname, state, currency, pueden ser convertidas en variables numéricas mediante la codificación one-hot o label encoding para que los algoritmos de machine learning puedan manejarlas."
      ]
    },
    {
      "cell_type": "code",
      "execution_count": 55,
      "metadata": {
        "id": "8IFyYfztXwrU"
      },
      "outputs": [
        {
          "name": "stdout",
          "output_type": "stream",
          "text": [
            "Columnas del dataset:\n",
            "Index(['id', 'category', 'title', 'body', 'amenities', 'bathrooms', 'bedrooms',\n",
            "       'fee', 'has_photo', 'pets_allowed', 'price', 'price_display',\n",
            "       'price_type', 'square_feet', 'address', 'cityname', 'latitude',\n",
            "       'longitude', 'source', 'time', 'state_AL', 'state_AR', 'state_AZ',\n",
            "       'state_CA', 'state_CO', 'state_CT', 'state_DC', 'state_DE', 'state_FL',\n",
            "       'state_GA', 'state_HI', 'state_IA', 'state_ID', 'state_IL', 'state_IN',\n",
            "       'state_KS', 'state_KY', 'state_LA', 'state_MA', 'state_MD', 'state_ME',\n",
            "       'state_MI', 'state_MN', 'state_MO', 'state_MS', 'state_MT', 'state_NC',\n",
            "       'state_ND', 'state_NE', 'state_NH', 'state_NJ', 'state_NM', 'state_NV',\n",
            "       'state_NY', 'state_OH', 'state_OK', 'state_OR', 'state_PA', 'state_RI',\n",
            "       'state_SC', 'state_SD', 'state_TN', 'state_TX', 'state_UT', 'state_VA',\n",
            "       'state_VT', 'state_WA', 'state_WI', 'state_WV', 'state_WY'],\n",
            "      dtype='object')\n"
          ]
        }
      ],
      "source": [
        "# Ejemplo de codificación one-hot de la columna 'state'\n",
        "df = pd.get_dummies(df, columns=['state', 'currency'], drop_first=True)\n",
        "\n",
        "# Ahora veremos que el dataset elimino las columnas 'state' y 'currency' y agrego nuevas columnas con la codificación one-hot\n",
        "print(\"Columnas del dataset:\")\n",
        "print(df.columns)"
      ]
    },
    {
      "cell_type": "markdown",
      "metadata": {
        "id": "Pnd_u7PLXyhj"
      },
      "source": [
        "5. Manejo de outliers (valores atípicos)\n",
        "Es importante detectar y manejar los valores atípicos, especialmente en columnas numéricas como price_display o square_feet, ya que pueden distorsionar los resultados. Puedes usar métodos como el Z-score o el rango intercuartílico (IQR) para detectarlos."
      ]
    },
    {
      "cell_type": "code",
      "execution_count": 56,
      "metadata": {
        "id": "sSzIC74tX1px"
      },
      "outputs": [
        {
          "name": "stdout",
          "output_type": "stream",
          "text": [
            "Valores en la columna 'price_display', antes del filtrado:\n",
            "0        2195.0\n",
            "1        1250.0\n",
            "2        1395.0\n",
            "3        1600.0\n",
            "4         975.0\n",
            "          ...  \n",
            "99995     780.0\n",
            "99996     813.0\n",
            "99997    1325.0\n",
            "99998     931.0\n",
            "99999    1595.0\n",
            "Name: price_display, Length: 99992, dtype: float64\n",
            "Valores en la columna 'price_display', despues del filtrado:\n",
            "0        2195.0\n",
            "1        1250.0\n",
            "2        1395.0\n",
            "3        1600.0\n",
            "4         975.0\n",
            "          ...  \n",
            "99995     780.0\n",
            "99996     813.0\n",
            "99997    1325.0\n",
            "99998     931.0\n",
            "99999    1595.0\n",
            "Name: price_display, Length: 95280, dtype: float64\n"
          ]
        }
      ],
      "source": [
        "print(\"Valores en la columna 'price_display', antes del filtrado:\")\n",
        "print(df['price_display'])\n",
        "# Detectar outliers usando el rango intercuartílico\n",
        "Q1 = df['price_display'].quantile(0.25)\n",
        "Q3 = df['price_display'].quantile(0.75)\n",
        "IQR = Q3 - Q1\n",
        "# Filtrar valores que están fuera de 1.5 veces el IQR\n",
        "df = df[~((df['price_display'] < (Q1 - 1.5 * IQR)) | (df['price_display'] > (Q3 + 1.5 * IQR)))]\n",
        "\n",
        "# Verificar valores atípicos en la columna 'price_display'\n",
        "print(\"Valores en la columna 'price_display', despues del filtrado:\")\n",
        "print(df['price_display'])"
      ]
    },
    {
      "cell_type": "markdown",
      "metadata": {
        "id": "Nvk4ihbZX6HP"
      },
      "source": [
        "6. Normalización o estandarización\n",
        "Si vas a usar algoritmos que son sensibles a la escala de los datos, como regresión logística o redes neuronales, es importante normalizar las columnas numéricas como price_display y square_feet."
      ]
    },
    {
      "cell_type": "code",
      "execution_count": 11,
      "metadata": {
        "id": "a4slE7eNX91_"
      },
      "outputs": [],
      "source": [
        "from sklearn.preprocessing import MinMaxScaler\n",
        "scaler = MinMaxScaler()\n",
        "df[['price_display', 'square_feet']] = scaler.fit_transform(df[['price_display', 'square_feet']])\n",
        "\n",
        "# Verificar los valores normalizados\n",
        "print(\"Valores normalizados:\")\n",
        "print(df[['price_display', 'square_feet']])"
      ]
    },
    {
      "cell_type": "markdown",
      "metadata": {
        "id": "XcTlvNj0YA3A"
      },
      "source": [
        "7. Manejo de la columna de tiempo\n",
        "La columna time puede ser convertida a un formato de fecha y hora más útil, además de extraer características como el año, mes o día de la semana."
      ]
    },
    {
      "cell_type": "code",
      "execution_count": 12,
      "metadata": {
        "id": "_fcI7rGPYEfA"
      },
      "outputs": [],
      "source": [
        "# Convertir la columna 'time' a formato de fecha\n",
        "df['time'] = pd.to_datetime(df['time'], unit='s')\n",
        "\n",
        "# Extraer año, mes y día de la semana\n",
        "df['year'] = df['time'].dt.year\n",
        "df['month'] = df['time'].dt.month\n",
        "df['day_of_week'] = df['time'].dt.dayofweek"
      ]
    },
    {
      "cell_type": "markdown",
      "metadata": {
        "id": "1zTeSfGlYHeM"
      },
      "source": [
        "8. Eliminar columnas irrelevantes\n",
        "Algunas columnas no serán necesarias para el análisis, como source. Puedes eliminarlas para reducir el ruido en los datos."
      ]
    },
    {
      "cell_type": "code",
      "execution_count": 13,
      "metadata": {
        "id": "UZh_QSuBYJpf"
      },
      "outputs": [],
      "source": [
        "# Eliminar columnas irrelevantes\n",
        "df.drop(['source'], axis=1, inplace=True)"
      ]
    },
    {
      "cell_type": "markdown",
      "metadata": {
        "id": "OQBDeFdlYLmN"
      },
      "source": [
        "9. Validar el dataset final\n",
        "Realiza una validación final para asegurarte de que no quedan valores faltantes, que los tipos de datos son correctos, y que los datos están listos para el análisis."
      ]
    },
    {
      "cell_type": "code",
      "execution_count": 14,
      "metadata": {
        "id": "sBlAMbcUYN3P"
      },
      "outputs": [
        {
          "name": "stdout",
          "output_type": "stream",
          "text": [
            "<class 'pandas.core.frame.DataFrame'>\n",
            "Index: 95280 entries, 0 to 99999\n",
            "Data columns (total 72 columns):\n",
            " #   Column         Non-Null Count  Dtype         \n",
            "---  ------         --------------  -----         \n",
            " 0   id             95280 non-null  int64         \n",
            " 1   category       95280 non-null  object        \n",
            " 2   title          95280 non-null  object        \n",
            " 3   body           95280 non-null  object        \n",
            " 4   amenities      95280 non-null  object        \n",
            " 5   bathrooms      95221 non-null  float64       \n",
            " 6   bedrooms       95160 non-null  float64       \n",
            " 7   fee            95280 non-null  object        \n",
            " 8   has_photo      95280 non-null  object        \n",
            " 9   pets_allowed   37785 non-null  object        \n",
            " 10  price          95280 non-null  float64       \n",
            " 11  price_display  95248 non-null  float64       \n",
            " 12  price_type     95280 non-null  object        \n",
            " 13  square_feet    95280 non-null  float64       \n",
            " 14  address        7475 non-null   object        \n",
            " 15  cityname       95047 non-null  object        \n",
            " 16  latitude       95255 non-null  float64       \n",
            " 17  longitude      95255 non-null  float64       \n",
            " 18  time           95280 non-null  datetime64[ns]\n",
            " 19  state_AL       95280 non-null  bool          \n",
            " 20  state_AR       95280 non-null  bool          \n",
            " 21  state_AZ       95280 non-null  bool          \n",
            " 22  state_CA       95280 non-null  bool          \n",
            " 23  state_CO       95280 non-null  bool          \n",
            " 24  state_CT       95280 non-null  bool          \n",
            " 25  state_DC       95280 non-null  bool          \n",
            " 26  state_DE       95280 non-null  bool          \n",
            " 27  state_FL       95280 non-null  bool          \n",
            " 28  state_GA       95280 non-null  bool          \n",
            " 29  state_HI       95280 non-null  bool          \n",
            " 30  state_IA       95280 non-null  bool          \n",
            " 31  state_ID       95280 non-null  bool          \n",
            " 32  state_IL       95280 non-null  bool          \n",
            " 33  state_IN       95280 non-null  bool          \n",
            " 34  state_KS       95280 non-null  bool          \n",
            " 35  state_KY       95280 non-null  bool          \n",
            " 36  state_LA       95280 non-null  bool          \n",
            " 37  state_MA       95280 non-null  bool          \n",
            " 38  state_MD       95280 non-null  bool          \n",
            " 39  state_ME       95280 non-null  bool          \n",
            " 40  state_MI       95280 non-null  bool          \n",
            " 41  state_MN       95280 non-null  bool          \n",
            " 42  state_MO       95280 non-null  bool          \n",
            " 43  state_MS       95280 non-null  bool          \n",
            " 44  state_MT       95280 non-null  bool          \n",
            " 45  state_NC       95280 non-null  bool          \n",
            " 46  state_ND       95280 non-null  bool          \n",
            " 47  state_NE       95280 non-null  bool          \n",
            " 48  state_NH       95280 non-null  bool          \n",
            " 49  state_NJ       95280 non-null  bool          \n",
            " 50  state_NM       95280 non-null  bool          \n",
            " 51  state_NV       95280 non-null  bool          \n",
            " 52  state_NY       95280 non-null  bool          \n",
            " 53  state_OH       95280 non-null  bool          \n",
            " 54  state_OK       95280 non-null  bool          \n",
            " 55  state_OR       95280 non-null  bool          \n",
            " 56  state_PA       95280 non-null  bool          \n",
            " 57  state_RI       95280 non-null  bool          \n",
            " 58  state_SC       95280 non-null  bool          \n",
            " 59  state_SD       95280 non-null  bool          \n",
            " 60  state_TN       95280 non-null  bool          \n",
            " 61  state_TX       95280 non-null  bool          \n",
            " 62  state_UT       95280 non-null  bool          \n",
            " 63  state_VA       95280 non-null  bool          \n",
            " 64  state_VT       95280 non-null  bool          \n",
            " 65  state_WA       95280 non-null  bool          \n",
            " 66  state_WI       95280 non-null  bool          \n",
            " 67  state_WV       95280 non-null  bool          \n",
            " 68  state_WY       95280 non-null  bool          \n",
            " 69  year           95280 non-null  int32         \n",
            " 70  month          95280 non-null  int32         \n",
            " 71  day_of_week    95280 non-null  int32         \n",
            "dtypes: bool(50), datetime64[ns](1), float64(7), int32(3), int64(1), object(10)\n",
            "memory usage: 20.2+ MB\n",
            "None\n",
            "id             0\n",
            "category       0\n",
            "title          0\n",
            "body           0\n",
            "amenities      0\n",
            "              ..\n",
            "state_WV       0\n",
            "state_WY       0\n",
            "year           0\n",
            "month          0\n",
            "day_of_week    0\n",
            "Length: 72, dtype: int64\n"
          ]
        }
      ],
      "source": [
        "# Verificar nuevamente la estructura final\n",
        "print(df.info())\n",
        "\n",
        "# Comprobar si hay valores faltantes después de los cambios\n",
        "print(df.isnull().sum())"
      ]
    }
  ],
  "metadata": {
    "colab": {
      "provenance": []
    },
    "kernelspec": {
      "display_name": "Python 3",
      "name": "python3"
    },
    "language_info": {
      "codemirror_mode": {
        "name": "ipython",
        "version": 3
      },
      "file_extension": ".py",
      "mimetype": "text/x-python",
      "name": "python",
      "nbconvert_exporter": "python",
      "pygments_lexer": "ipython3",
      "version": "3.12.1"
    }
  },
  "nbformat": 4,
  "nbformat_minor": 0
}
